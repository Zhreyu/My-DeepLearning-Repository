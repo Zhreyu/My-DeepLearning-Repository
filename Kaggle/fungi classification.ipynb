{
  "cells": [
    {
      "cell_type": "code",
      "execution_count": 1,
      "metadata": {
        "colab": {
          "base_uri": "https://localhost:8080/"
        },
        "id": "usFBysgzJ0Jj",
        "outputId": "eceac8ed-f56f-4097-8192-7826320e8301"
      },
      "outputs": [
        {
          "output_type": "stream",
          "name": "stdout",
          "text": [
            "Collecting opendatasets\n",
            "  Downloading opendatasets-0.1.22-py3-none-any.whl (15 kB)\n",
            "Requirement already satisfied: tqdm in /usr/local/lib/python3.10/dist-packages (from opendatasets) (4.65.0)\n",
            "Requirement already satisfied: kaggle in /usr/local/lib/python3.10/dist-packages (from opendatasets) (1.5.16)\n",
            "Requirement already satisfied: click in /usr/local/lib/python3.10/dist-packages (from opendatasets) (8.1.6)\n",
            "Requirement already satisfied: six>=1.10 in /usr/local/lib/python3.10/dist-packages (from kaggle->opendatasets) (1.16.0)\n",
            "Requirement already satisfied: certifi in /usr/local/lib/python3.10/dist-packages (from kaggle->opendatasets) (2023.7.22)\n",
            "Requirement already satisfied: python-dateutil in /usr/local/lib/python3.10/dist-packages (from kaggle->opendatasets) (2.8.2)\n",
            "Requirement already satisfied: requests in /usr/local/lib/python3.10/dist-packages (from kaggle->opendatasets) (2.27.1)\n",
            "Requirement already satisfied: python-slugify in /usr/local/lib/python3.10/dist-packages (from kaggle->opendatasets) (8.0.1)\n",
            "Requirement already satisfied: urllib3 in /usr/local/lib/python3.10/dist-packages (from kaggle->opendatasets) (1.26.16)\n",
            "Requirement already satisfied: bleach in /usr/local/lib/python3.10/dist-packages (from kaggle->opendatasets) (6.0.0)\n",
            "Requirement already satisfied: webencodings in /usr/local/lib/python3.10/dist-packages (from bleach->kaggle->opendatasets) (0.5.1)\n",
            "Requirement already satisfied: text-unidecode>=1.3 in /usr/local/lib/python3.10/dist-packages (from python-slugify->kaggle->opendatasets) (1.3)\n",
            "Requirement already satisfied: charset-normalizer~=2.0.0 in /usr/local/lib/python3.10/dist-packages (from requests->kaggle->opendatasets) (2.0.12)\n",
            "Requirement already satisfied: idna<4,>=2.5 in /usr/local/lib/python3.10/dist-packages (from requests->kaggle->opendatasets) (3.4)\n",
            "Installing collected packages: opendatasets\n",
            "Successfully installed opendatasets-0.1.22\n"
          ]
        }
      ],
      "source": [
        "!pip install opendatasets\n",
        "import opendatasets as od"
      ]
    },
    {
      "cell_type": "code",
      "execution_count": 2,
      "metadata": {
        "colab": {
          "base_uri": "https://localhost:8080/"
        },
        "id": "tw82zYLlJ5Z3",
        "outputId": "e121d5b0-4ac8-4518-e0de-088db046749c"
      },
      "outputs": [
        {
          "output_type": "stream",
          "name": "stdout",
          "text": [
            "Downloading microscopic-fungi-images.zip to ./microscopic-fungi-images\n"
          ]
        },
        {
          "output_type": "stream",
          "name": "stderr",
          "text": [
            "100%|██████████| 149M/149M [00:01<00:00, 81.9MB/s]\n"
          ]
        },
        {
          "output_type": "stream",
          "name": "stdout",
          "text": [
            "\n"
          ]
        }
      ],
      "source": [
        "od.download(\"https://www.kaggle.com/datasets/anshtanwar/microscopic-fungi-images\")"
      ]
    },
    {
      "cell_type": "code",
      "source": [
        "import tensorflow as tf\n",
        "from tensorflow.keras.applications import VGG16\n",
        "from tensorflow.keras.models import Model\n",
        "from tensorflow.keras.layers import Dense, GlobalAveragePooling2D\n",
        "from tensorflow.keras.optimizers import Adam\n",
        "from tensorflow.keras.preprocessing.image import ImageDataGenerator\n",
        "\n",
        "# Define the folder paths and class labels\n",
        "data_folder = \"/content/microscopic-fungi-images\"  # Replace this with the actual path to your dataset folder\n",
        "class_labels = {\n",
        "    'H0': \"Candida albicans\",\n",
        "    'H1': \"Aspergillus niger\",\n",
        "    \"H2\": \"Trichophyton rubrum\",\n",
        "    \"H5\": \"Trichophyton mentagrophytes\",\n",
        "    \"H6\": \"Epidermophyton floccosum\",\n",
        "}\n",
        "\n",
        "# Data augmentation and normalization for training set\n",
        "train_datagen = ImageDataGenerator(\n",
        "    rescale=1.0 / 255,\n",
        "    shear_range=0.2,\n",
        "    zoom_range=0.2,\n",
        "    horizontal_flip=True,\n",
        ")\n",
        "\n",
        "# Data normalization for validation and test sets\n",
        "val_test_datagen = ImageDataGenerator(rescale=1.0 / 255)\n",
        "\n",
        "# Define the batch size and image dimensions\n",
        "batch_size = 32\n",
        "image_height, image_width = 128, 128\n",
        "\n",
        "# Create data generators for training, validation, and test sets\n",
        "train_generator = train_datagen.flow_from_directory(\n",
        "    data_folder,\n",
        "    target_size=(image_height, image_width),\n",
        "    batch_size=batch_size,\n",
        "    class_mode=\"categorical\",\n",
        "    classes=list(class_labels.keys()),\n",
        "    shuffle=True,\n",
        ")\n",
        "\n",
        "val_generator = val_test_datagen.flow_from_directory(\n",
        "    data_folder,\n",
        "    target_size=(image_height, image_width),\n",
        "    batch_size=batch_size,\n",
        "    class_mode=\"categorical\",\n",
        "    classes=list(class_labels.keys()),\n",
        "    shuffle=False,\n",
        ")\n",
        "\n",
        "test_generator = val_test_datagen.flow_from_directory(\n",
        "    data_folder,\n",
        "    target_size=(image_height, image_width),\n",
        "    batch_size=batch_size,\n",
        "    class_mode=\"categorical\",\n",
        "    classes=list(class_labels.keys()),\n",
        "    shuffle=False,\n",
        ")\n",
        "\n",
        "# Load the pre-trained VGG16 model without the top (classification) layers\n",
        "base_model = VGG16(weights=\"imagenet\", include_top=False, input_shape=(image_height, image_width, 3))\n",
        "\n",
        "# Add a custom classifier on top of the base model\n",
        "x = base_model.output\n",
        "x = GlobalAveragePooling2D()(x)\n",
        "x = Dense(256, activation=\"relu\")(x)\n",
        "predictions = Dense(len(class_labels), activation=\"softmax\")(x)\n",
        "\n",
        "model = Model(inputs=base_model.input, outputs=predictions)\n",
        "\n",
        "# Freeze the layers in the base model to keep their pre-trained weights\n",
        "for layer in base_model.layers:\n",
        "    layer.trainable = False\n",
        "\n",
        "# Compile the model\n",
        "model.compile(optimizer=Adam(lr=0.001), loss=\"categorical_crossentropy\", metrics=[\"accuracy\"])\n",
        "\n",
        "# Train the model\n",
        "epochs = 10\n",
        "steps_per_epoch = len(train_generator)\n",
        "validation_steps = len(val_generator)\n",
        "\n",
        "model.fit(\n",
        "    train_generator,\n",
        "    epochs=epochs,\n",
        "    steps_per_epoch=steps_per_epoch,\n",
        "    validation_data=val_generator,\n",
        "    validation_steps=validation_steps,\n",
        ")\n",
        "\n",
        "# Evaluate the model on the test set\n",
        "test_steps = len(test_generator)\n",
        "test_loss, test_accuracy = model.evaluate(test_generator, steps=test_steps)\n",
        "print(f\"Test Loss: {test_loss:.4f}, Test Accuracy: {test_accuracy:.4f}\")\n"
      ],
      "metadata": {
        "colab": {
          "base_uri": "https://localhost:8080/"
        },
        "id": "ACzuGpXkh9UK",
        "outputId": "731a8aed-14b7-42cb-e51c-e9f34334e4f2"
      },
      "execution_count": 3,
      "outputs": [
        {
          "output_type": "stream",
          "name": "stdout",
          "text": [
            "Found 8295 images belonging to 5 classes.\n",
            "Found 8295 images belonging to 5 classes.\n",
            "Found 8295 images belonging to 5 classes.\n",
            "Downloading data from https://storage.googleapis.com/tensorflow/keras-applications/vgg16/vgg16_weights_tf_dim_ordering_tf_kernels_notop.h5\n",
            "58889256/58889256 [==============================] - 0s 0us/step\n"
          ]
        },
        {
          "output_type": "stream",
          "name": "stderr",
          "text": [
            "WARNING:absl:`lr` is deprecated in Keras optimizer, please use `learning_rate` or use the legacy optimizer, e.g.,tf.keras.optimizers.legacy.Adam.\n"
          ]
        },
        {
          "output_type": "stream",
          "name": "stdout",
          "text": [
            "Epoch 1/10\n",
            "260/260 [==============================] - 75s 245ms/step - loss: 0.9059 - accuracy: 0.6171 - val_loss: 0.8171 - val_accuracy: 0.6517\n",
            "Epoch 2/10\n",
            "260/260 [==============================] - 63s 241ms/step - loss: 0.7980 - accuracy: 0.6621 - val_loss: 0.7845 - val_accuracy: 0.6634\n",
            "Epoch 3/10\n",
            "260/260 [==============================] - 63s 241ms/step - loss: 0.7665 - accuracy: 0.6708 - val_loss: 0.7588 - val_accuracy: 0.6732\n",
            "Epoch 4/10\n",
            "260/260 [==============================] - 62s 239ms/step - loss: 0.7429 - accuracy: 0.6839 - val_loss: 0.7575 - val_accuracy: 0.6887\n",
            "Epoch 5/10\n",
            "260/260 [==============================] - 63s 241ms/step - loss: 0.7248 - accuracy: 0.6856 - val_loss: 0.6933 - val_accuracy: 0.7049\n",
            "Epoch 6/10\n",
            "260/260 [==============================] - 64s 244ms/step - loss: 0.7087 - accuracy: 0.6986 - val_loss: 0.6685 - val_accuracy: 0.7107\n",
            "Epoch 7/10\n",
            "260/260 [==============================] - 63s 241ms/step - loss: 0.6942 - accuracy: 0.7008 - val_loss: 0.6774 - val_accuracy: 0.7172\n",
            "Epoch 8/10\n",
            "260/260 [==============================] - 63s 241ms/step - loss: 0.6804 - accuracy: 0.7078 - val_loss: 0.6501 - val_accuracy: 0.7174\n",
            "Epoch 9/10\n",
            "260/260 [==============================] - 62s 240ms/step - loss: 0.6718 - accuracy: 0.7113 - val_loss: 0.6345 - val_accuracy: 0.7290\n",
            "Epoch 10/10\n",
            "260/260 [==============================] - 63s 243ms/step - loss: 0.6668 - accuracy: 0.7118 - val_loss: 0.6420 - val_accuracy: 0.7156\n",
            "260/260 [==============================] - 17s 65ms/step - loss: 0.6420 - accuracy: 0.7156\n",
            "Test Loss: 0.6420, Test Accuracy: 0.7156\n"
          ]
        }
      ]
    },
    {
      "cell_type": "code",
      "source": [],
      "metadata": {
        "id": "n11jbIU_h9Pq"
      },
      "execution_count": null,
      "outputs": []
    }
  ],
  "metadata": {
    "accelerator": "GPU",
    "colab": {
      "provenance": []
    },
    "kernelspec": {
      "display_name": "Python 3",
      "name": "python3"
    },
    "language_info": {
      "name": "python"
    }
  },
  "nbformat": 4,
  "nbformat_minor": 0
}