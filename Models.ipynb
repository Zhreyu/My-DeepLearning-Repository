{
 "cells": [
  {
   "cell_type": "code",
   "execution_count": 1,
   "id": "300dd2c5",
   "metadata": {},
   "outputs": [],
   "source": [
    "\n",
    "import pandas as pd\n",
    "from sklearn.linear_model import LinearRegression, Ridge, Lasso\n",
    "from sklearn.metrics import mean_squared_error, r2_score\n"
   ]
  },
  {
   "cell_type": "code",
   "execution_count": 2,
   "id": "756dc158",
   "metadata": {},
   "outputs": [],
   "source": [
    "\n",
    "# Load the training and test datasets from the \"dataset\" folder\n",
    "X_train = pd.read_csv('Dataset/X_train.csv')\n",
    "X_test = pd.read_csv('Dataset/X_test.csv')\n",
    "y_train = pd.read_csv('Dataset/y_train.csv')\n",
    "y_test = pd.read_csv('Dataset/y_test.csv')\n"
   ]
  },
  {
   "cell_type": "code",
   "execution_count": 3,
   "id": "156829b7",
   "metadata": {},
   "outputs": [
    {
     "name": "stdout",
     "output_type": "stream",
     "text": [
      "Mean Squared Error (MSE): 0.4119\n",
      "R-squared (R²) Score: 0.4195\n"
     ]
    }
   ],
   "source": [
    "\n",
    "# Linear Regression\n",
    "linear_reg = LinearRegression()\n",
    "linear_reg.fit(X_train, y_train)\n",
    "y_pred_lr = linear_reg.predict(X_test)\n",
    "mse_lr = mean_squared_error(y_test, y_pred_lr)\n",
    "r2_lr = r2_score(y_test, y_pred_lr)\n",
    "\n",
    "\n",
    "print(f\"Mean Squared Error (MSE): {mse_lr:.4f}\")\n",
    "print(f\"R-squared (R²) Score: {r2_lr:.4f}\")\n",
    "\n"
   ]
  },
  {
   "cell_type": "code",
   "execution_count": 5,
   "id": "75d509ee",
   "metadata": {},
   "outputs": [
    {
     "name": "stdout",
     "output_type": "stream",
     "text": [
      "Mean Squared Error (MSE): 0.4119\n",
      "R-squared (R²) Score: 0.4195\n"
     ]
    }
   ],
   "source": [
    "\n",
    "# Ridge Regression\n",
    "ridge_best_alpha = 0.1  # As determined earlier\n",
    "ridge_best = Ridge(alpha=ridge_best_alpha)\n",
    "ridge_best.fit(X_train, y_train)\n",
    "y_pred_ridge = ridge_best.predict(X_test)\n",
    "mse_ridge = mean_squared_error(y_test, y_pred_ridge)\n",
    "r2_ridge = r2_score(y_test, y_pred_ridge)\n",
    "\n",
    "\n",
    "print(f\"Mean Squared Error (MSE): {mse_ridge:.4f}\")\n",
    "print(f\"R-squared (R²) Score: {r2_ridge:.4f}\")\n",
    "\n"
   ]
  },
  {
   "cell_type": "code",
   "execution_count": 6,
   "id": "567a8f29",
   "metadata": {},
   "outputs": [
    {
     "name": "stdout",
     "output_type": "stream",
     "text": [
      "Mean Squared Error (MSE): 0.4119\n",
      "R-squared (R²) Score: 0.4195\n"
     ]
    }
   ],
   "source": [
    "\n",
    "# Lasso Regression\n",
    "lasso_best_alpha = 0.0001  # As determined earlier\n",
    "lasso_best = Lasso(alpha=lasso_best_alpha)\n",
    "lasso_best.fit(X_train, y_train)\n",
    "y_pred_lasso = lasso_best.predict(X_test)\n",
    "mse_lasso = mean_squared_error(y_test, y_pred_lasso)\n",
    "r2_lasso = r2_score(y_test, y_pred_lasso)\n",
    "\n",
    "mse_lasso, r2_lasso\n",
    "\n",
    "print(f\"Mean Squared Error (MSE): {mse_ridge:.4f}\")\n",
    "print(f\"R-squared (R²) Score: {r2_ridge:.4f}\")\n"
   ]
  },
  {
   "cell_type": "code",
   "execution_count": 3,
   "id": "eb785b9b",
   "metadata": {},
   "outputs": [
    {
     "name": "stderr",
     "output_type": "stream",
     "text": [
      "c:\\Users\\shreyas\\miniconda3\\envs\\torch\\lib\\site-packages\\sklearn\\base.py:1151: DataConversionWarning: A column-vector y was passed when a 1d array was expected. Please change the shape of y to (n_samples,), for example using ravel().\n",
      "  return fit_method(estimator, *args, **kwargs)\n"
     ]
    },
    {
     "name": "stdout",
     "output_type": "stream",
     "text": [
      "Mean Squared Error (MSE): 0.0008\n",
      "R-squared (R²) Score: 0.9989\n"
     ]
    }
   ],
   "source": [
    "# Train a Random Forest Regressor with default parameters\n",
    "from sklearn.ensemble import RandomForestRegressor\n",
    "\n",
    "\n",
    "rf_default = RandomForestRegressor(random_state=42)\n",
    "rf_default.fit(X_train, y_train)\n",
    "\n",
    "# Predict on the test set\n",
    "y_pred_rf = rf_default.predict(X_test)\n",
    "\n",
    "# Evaluate the Random Forest model\n",
    "mse_rf = mean_squared_error(y_test, y_pred_rf)\n",
    "r2_rf = r2_score(y_test, y_pred_rf)\n",
    "\n",
    "\n",
    "print(f\"Mean Squared Error (MSE): {mse_rf:.4f}\")\n",
    "print(f\"R-squared (R²) Score: {r2_rf:.4f}\")\n",
    "\n"
   ]
  },
  {
   "cell_type": "code",
   "execution_count": 4,
   "id": "6e9a8151",
   "metadata": {},
   "outputs": [
    {
     "name": "stdout",
     "output_type": "stream",
     "text": [
      "Mean Squared Error (MSE): 0.0095\n",
      "R-squared (R²) Score: 0.9867\n"
     ]
    }
   ],
   "source": [
    "import torch\n",
    "import torch.nn as nn\n",
    "import torch.optim as optim\n",
    "from sklearn.metrics import mean_squared_error, r2_score\n",
    "device = torch.device(\"cuda\" if torch.cuda.is_available() else \"cpu\")\n",
    "\n",
    "class SimpleNN(nn.Module):\n",
    "    def __init__(self, input_dim):\n",
    "        super(SimpleNN, self).__init__()\n",
    "        self.fc1 = nn.Linear(input_dim, 128)  # Input to hidden layer\n",
    "        self.relu1 = nn.ReLU()\n",
    "        self.fc2 = nn.Linear(128, 64)  # Hidden layer to hidden layer\n",
    "        self.relu2 = nn.ReLU()\n",
    "        self.fc3 = nn.Linear(64, 1)  # Hidden layer to output layer\n",
    "\n",
    "    def forward(self, x):\n",
    "        x = self.fc1(x)\n",
    "        x = self.relu1(x)\n",
    "        x = self.fc2(x)\n",
    "        x = self.relu2(x)\n",
    "        x = self.fc3(x)\n",
    "        return x\n",
    "\n",
    "# Initialize the neural network and move it to the GPU\n",
    "input_dim = X_train.shape[1]\n",
    "model = SimpleNN(input_dim).to(device)\n",
    "\n",
    "# Define loss function and optimizer\n",
    "criterion = nn.MSELoss()\n",
    "optimizer = optim.Adam(model.parameters(), lr=0.001)\n",
    "\n",
    "# Move data to the GPU\n",
    "X_train_tensor = torch.tensor(X_train.values, dtype=torch.float32).to(device)\n",
    "y_train_tensor = torch.tensor(y_train.values, dtype=torch.float32).to(device)\n",
    "X_test_tensor = torch.tensor(X_test.values, dtype=torch.float32).to(device)\n",
    "\n",
    "# Training loop\n",
    "epochs = 5\n",
    "batch_size = 32\n",
    "for epoch in range(epochs):\n",
    "    for i in range(0, len(X_train), batch_size):\n",
    "        optimizer.zero_grad()\n",
    "        batch_X = X_train_tensor[i:i+batch_size]\n",
    "        batch_y = y_train_tensor[i:i+batch_size]\n",
    "        outputs = model(batch_X)\n",
    "        loss = criterion(outputs, batch_y)\n",
    "        loss.backward()\n",
    "        optimizer.step()\n",
    "\n",
    "# Predict on the test set\n",
    "y_pred_tensor = model(X_test_tensor)\n",
    "y_pred_nn = y_pred_tensor.cpu().detach().numpy()\n",
    "\n",
    "# Evaluate the model\n",
    "mse_nn = mean_squared_error(y_test, y_pred_nn)\n",
    "r2_nn = r2_score(y_test, y_pred_nn)\n",
    "print(f\"Mean Squared Error (MSE): {mse_nn:.4f}\")\n",
    "print(f\"R-squared (R²) Score: {r2_nn:.4f}\")\n"
   ]
  },
  {
   "cell_type": "code",
   "execution_count": 5,
   "id": "8da46c5f",
   "metadata": {},
   "outputs": [
    {
     "name": "stderr",
     "output_type": "stream",
     "text": [
      "c:\\Users\\shreyas\\miniconda3\\envs\\torch\\lib\\site-packages\\sklearn\\ensemble\\_gb.py:424: DataConversionWarning: A column-vector y was passed when a 1d array was expected. Please change the shape of y to (n_samples, ), for example using ravel().\n",
      "  y = column_or_1d(y, warn=True)\n"
     ]
    },
    {
     "name": "stdout",
     "output_type": "stream",
     "text": [
      "Mean Squared Error (MSE): 0.1854\n",
      "R-squared (R²) Score: 0.7386\n"
     ]
    }
   ],
   "source": [
    "from sklearn.ensemble import GradientBoostingRegressor\n",
    "\n",
    "# Initialize Gradient Boosting Regressor with default parameters\n",
    "gbm = GradientBoostingRegressor(random_state=42)\n",
    "gbm.fit(X_train, y_train)\n",
    "\n",
    "# Predict on the test set\n",
    "y_pred_gbm = gbm.predict(X_test)\n",
    "\n",
    "# Evaluate the Gradient Boosting model\n",
    "mse_gbm = mean_squared_error(y_test, y_pred_gbm)\n",
    "r2_gbm = r2_score(y_test, y_pred_gbm)\n",
    "\n",
    "print(f\"Mean Squared Error (MSE): {mse_gbm:.4f}\")\n",
    "print(f\"R-squared (R²) Score: {r2_gbm:.4f}\")"
   ]
  },
  {
   "cell_type": "code",
   "execution_count": 6,
   "id": "5baae4e1",
   "metadata": {},
   "outputs": [
    {
     "name": "stdout",
     "output_type": "stream",
     "text": [
      "Mean Squared Error (MSE): 0.1659\n",
      "R-squared (R²) Score: 0.7661\n"
     ]
    }
   ],
   "source": [
    "from sklearn.neighbors import KNeighborsRegressor\n",
    "from sklearn.metrics import mean_squared_error, r2_score,f1_score\n",
    "\n",
    "# Initialize and train the K-Nearest Neighbors Regressor\n",
    "knn_reg = KNeighborsRegressor(n_neighbors=5)  # Using 5 neighbors as a start\n",
    "knn_reg.fit(X_train, y_train)\n",
    "\n",
    "# Predict on the test set\n",
    "y_pred_knn = knn_reg.predict(X_test)\n",
    "\n",
    "# Evaluate the model\n",
    "mse_knn = mean_squared_error(y_test, y_pred_knn)\n",
    "r2_knn = r2_score(y_test, y_pred_knn)\n",
    "\n",
    "print(f\"Mean Squared Error (MSE): {mse_knn:.4f}\")\n",
    "print(f\"R-squared (R²) Score: {r2_knn:.4f}\")"
   ]
  },
  {
   "cell_type": "code",
   "execution_count": 8,
   "id": "4deb3a24",
   "metadata": {},
   "outputs": [
    {
     "name": "stdout",
     "output_type": "stream",
     "text": [
      "Mean Squared Error (MSE): 0.0011\n",
      "R-squared (R²) Score: 0.9984\n"
     ]
    }
   ],
   "source": [
    "from sklearn.tree import DecisionTreeRegressor\n",
    "from sklearn.metrics import mean_squared_error, r2_score\n",
    "\n",
    "# Initialize and train the Decision Tree Regressor\n",
    "dt_reg = DecisionTreeRegressor(random_state=42)\n",
    "dt_reg.fit(X_train, y_train)\n",
    "\n",
    "# Predict on the test set\n",
    "y_pred_dt = dt_reg.predict(X_test)\n",
    "\n",
    "# Evaluate the model\n",
    "mse_dt = mean_squared_error(y_test, y_pred_dt)\n",
    "r2_dt = r2_score(y_test, y_pred_dt)\n",
    "\n",
    "print(f\"Mean Squared Error (MSE): {mse_dt:.4f}\")\n",
    "print(f\"R-squared (R²) Score: {r2_dt:.4f}\")\n"
   ]
  }
 ],
 "metadata": {
  "kernelspec": {
   "display_name": "torch",
   "language": "python",
   "name": "python3"
  },
  "language_info": {
   "codemirror_mode": {
    "name": "ipython",
    "version": 3
   },
   "file_extension": ".py",
   "mimetype": "text/x-python",
   "name": "python",
   "nbconvert_exporter": "python",
   "pygments_lexer": "ipython3",
   "version": "3.9.17"
  }
 },
 "nbformat": 4,
 "nbformat_minor": 5
}
